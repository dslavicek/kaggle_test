{
 "cells": [
  {
   "cell_type": "markdown",
   "id": "0e94e7a9",
   "metadata": {
    "papermill": {
     "duration": 0.002364,
     "end_time": "2023-07-31T18:50:56.592525",
     "exception": false,
     "start_time": "2023-07-31T18:50:56.590161",
     "status": "completed"
    },
    "tags": []
   },
   "source": [
    "## This notebook was created to test github integration into Kaggle"
   ]
  },
  {
   "cell_type": "code",
   "execution_count": 1,
   "id": "ebad7fc7",
   "metadata": {
    "execution": {
     "iopub.execute_input": "2023-07-31T18:50:56.598879Z",
     "iopub.status.busy": "2023-07-31T18:50:56.598365Z",
     "iopub.status.idle": "2023-07-31T18:50:56.612494Z",
     "shell.execute_reply": "2023-07-31T18:50:56.610722Z"
    },
    "papermill": {
     "duration": 0.020311,
     "end_time": "2023-07-31T18:50:56.615046",
     "exception": false,
     "start_time": "2023-07-31T18:50:56.594735",
     "status": "completed"
    },
    "tags": []
   },
   "outputs": [
    {
     "name": "stdout",
     "output_type": "stream",
     "text": [
      "I wrote this line of code on Kaggle.\n"
     ]
    }
   ],
   "source": [
    "print(\"I wrote this line of code on Kaggle.\")"
   ]
  }
 ],
 "metadata": {
  "kernelspec": {
   "display_name": "Python 3",
   "language": "python",
   "name": "python3"
  },
  "language_info": {
   "codemirror_mode": {
    "name": "ipython",
    "version": 3
   },
   "file_extension": ".py",
   "mimetype": "text/x-python",
   "name": "python",
   "nbconvert_exporter": "python",
   "pygments_lexer": "ipython3",
   "version": "3.10.12"
  },
  "papermill": {
   "default_parameters": {},
   "duration": 13.37023,
   "end_time": "2023-07-31T18:50:57.742022",
   "environment_variables": {},
   "exception": null,
   "input_path": "__notebook__.ipynb",
   "output_path": "__notebook__.ipynb",
   "parameters": {},
   "start_time": "2023-07-31T18:50:44.371792",
   "version": "2.4.0"
  }
 },
 "nbformat": 4,
 "nbformat_minor": 5
}
